{
 "cells": [
  {
   "cell_type": "code",
   "execution_count": 1,
   "metadata": {},
   "outputs": [],
   "source": [
    "import spacy\n",
    "from spacy.lang.en.stop_words import STOP_WORDS\n",
    "import nltk\n",
    "import pandas as pd"
   ]
  },
  {
   "cell_type": "code",
   "execution_count": 2,
   "metadata": {},
   "outputs": [
    {
     "name": "stderr",
     "output_type": "stream",
     "text": [
      "[nltk_data] Downloading package vader_lexicon to\n",
      "[nltk_data]     C:\\Users\\pmerk\\AppData\\Roaming\\nltk_data...\n",
      "[nltk_data]   Package vader_lexicon is already up-to-date!\n"
     ]
    },
    {
     "data": {
      "text/plain": [
       "True"
      ]
     },
     "execution_count": 2,
     "metadata": {},
     "output_type": "execute_result"
    }
   ],
   "source": [
    "# load medium library english for spaCy\n",
    "nlp = spacy.load(\"en_core_web_md\")\n",
    "# download Vader for nltk\n",
    "nltk.download('vader_lexicon')"
   ]
  },
  {
   "cell_type": "code",
   "execution_count": 3,
   "metadata": {},
   "outputs": [],
   "source": [
    "path = \"C:\\\\Users\\\\scheib\\\\Desktop\\\\challenges_scm\\\\daten\\\\C-SCM-DATA-Candidates_Evaluation_Anonymized_SS21.xlsx\""
   ]
  },
  {
   "cell_type": "code",
   "execution_count": 4,
   "metadata": {},
   "outputs": [],
   "source": [
    "data = pd.read_excel(path, engine='openpyxl')\n",
    "statements = data['Evaluation Statement'].tolist()"
   ]
  },
  {
   "cell_type": "code",
   "execution_count": 66,
   "metadata": {},
   "outputs": [],
   "source": [
    "text = \"He is the most creative person in the WHOLE world.\"\n",
    "test = text + \" \" +  statements[0]\n",
    "doc = nlp(test)"
   ]
  },
  {
   "cell_type": "code",
   "execution_count": 67,
   "metadata": {},
   "outputs": [
    {
     "data": {
      "text/plain": [
       "He is the most creative person in the WHOLE world. Based on his international background 00580346 Flores has proven that he is an excellent contributor in various corporate and business roles and that he navigates smoothly in any diverse cultural context, embracing the value of multiple perspectives and experiences. For example, 00580346 has repeatedly adopted new roles, quickly contributing and taking over special tasks and challenges. Prior to joining corporate strategy team, 00580346 has ensured an active exchange with his predecessor with a keen interest to gather as many insights as possible. Due to this intense preparation, 00580346 covered the routine tasks very quickly and took up the lead role in the quarterly OD benchmark BoD paper with an impressing and recognized quality. 00580346’s openness to learn new topics and processes was reflected in the continued support of major corporate portfolio projects and he volunteered in activities beyond his role, e.g. BASF 4.0 activities. In his most recent assignment as a Product Manager for industrial specialties, 00580346 has proven that he is able to transfer the above-mentioned competencies also into a business role extremely quickly. In addition to the regular product management tasks, he has proactively developed a sound business plan for the part of his portfolio associated with the upcoming BASF Colors & Pigment carveout, becoming quickly accepted within the cross functional team. Taking over responsibility for additional product groups after 6 months, 00580346 has already proven in his first year in the current position that he can handle a far more significant business portfolio. However, with his brilliant intellectual capabilities and extremely fast thinking, he can sometimes be too fast for his coworkers and teammates in his daily communication. Nevertheless, 00580346 regularly requests feedback, and this should provide the necessary basis for him to adopt his communication more stringently to the affected audience, which will be important for a managerial role that is highly recommended as a next step."
      ]
     },
     "execution_count": 67,
     "metadata": {},
     "output_type": "execute_result"
    }
   ],
   "source": [
    "doc"
   ]
  },
  {
   "cell_type": "code",
   "execution_count": 68,
   "metadata": {},
   "outputs": [
    {
     "name": "stdout",
     "output_type": "stream",
     "text": [
      "He is the most creative person in the WHOLE world 0.5731542706489563\n",
      "{and processes was reflected in the continued support of major corporate portfolio projects, , embracing the value of multiple perspectives, Based on his international background 00580346 Flores has proven that he is an excellent contributor in various corporate, 00580346’s openness to learn new topics, , he has proactively developed a sound business plan for the part of his portfolio associated with the upcoming BASF Colors & Pigment carveout, He is the most creative person in the WHOLE world, , 00580346 has already proven in his first year in the current position that he can handle a far more significant business portfolio, and that he navigates smoothly in any diverse cultural context, , 00580346 has ensured an active exchange with his predecessor with a keen interest to gather as many insights as possible, and took up the lead role in the quarterly OD benchmark BoD paper with an impressing, and this should provide the necessary basis for him to adopt his communication more stringently to the affected audience}\n"
     ]
    }
   ],
   "source": [
    "import itertools as it\n",
    "import typing as tp\n",
    "\n",
    "VERB_POS = {\"VERB\", \"AUX\"}\n",
    "SPLIT_WORDS = {\"and\", \"although\", \"but\", \"however\", \"except\", \"also\", \"nevertheless\"}\n",
    "\n",
    "language_model = \"en_core_web_lg\"\n",
    "nlp = spacy.load(language_model)\n",
    "\n",
    "ls_sentences = []\n",
    "\n",
    "for sent in doc.sents:\n",
    "        index = 0\n",
    "        for t in sent.as_doc():\n",
    "            if(t.text in SPLIT_WORDS or t.pos_ == \"PUNCT\"):\n",
    "                ls_sentences.append(sent.as_doc()[index:t.i])\n",
    "                index = t.i \n",
    "\n",
    "print(ls_sentences[0].text, cosine_similarity(ls_sentences[0].vector,nlp(\"creative\").vector))\n",
    "\n",
    "from scipy import spatial\n",
    "\n",
    "cosine_similarity = lambda x, y: 1 - spatial.distance.cosine(x, y)\n",
    "\n",
    "open_ = ['outgoing', 'curious', 'open-minded', 'broad-minded', 'honest', 'empathetic', 'respectful', 'positivity', 'emotional intelleligence', 'interest', 'interested', 'adapting' , 'informative', 'sharing', 'feedback', 'honesty', 'trust', 'valuing', 'diversity', 'perspective']\n",
    "responsible = ['decisions', 'decision-maker', 'supportive', 'prepared', 'proactive', 'reliable', 'trustworthy', 'discipline', 'respectable', 'committed', 'integrity', 'pushing', 'assertive', 'obligated', 'judicious' , 'organized', 'managing', 'consistent']\n",
    "creative = ['creative', 'constructive', 'resourceful', 'imaginative', 'ingenious', 'canny', 'inventive', 'full of ideas', 'clever', 'adventurous', 'innovative', 'originative', 'visionary', 'fanciful', 'forward thinker', 'pioneering', 'fertile', 'mastermind', 'genius', 'go-ahead', 'witty', 'eccentrically', 'inspiring', 'stimulating', 'encouraging', 'rich in ideas', 'inspirational']\n",
    "entrepreneurial = ['entrepreneurial', 'enterprising', 'entrepreneurially', 'profit-oriented', 'for-profit', 'profit-seeking', 'need for achievement', \"self-efficacy\", 'innovativeness', 'stress tolerant', 'need for autonomy', 'proactive', 'disruptive', 'personality', 'venturesome', 'prepared to take risks', 'visionary', 'goal-oriented', 'purposeful', 'active', 'engaged', 'maker', 'doer', 'self-starter', 'calm', 'passionate', 'positive', 'convinced']\n",
    "\n",
    "threshold = 0.725\n",
    "\n",
    "sent_creative = []\n",
    "set_creative = set()\n",
    "for l in ls_sentences:\n",
    "    for c in creative:\n",
    "        if(cosine_similarity(l.vector,nlp(c).vector) >= threshold):\n",
    "            sent_creative.append((l, c ,cosine_similarity(l.vector,nlp(c).vector)))\n",
    "            set_creative.add(l)\n",
    "\n",
    "print(set_creative)\n",
    "              "
   ]
  },
  {
   "cell_type": "code",
   "execution_count": null,
   "metadata": {},
   "outputs": [],
   "source": []
  },
  {
   "cell_type": "code",
   "execution_count": 53,
   "metadata": {},
   "outputs": [],
   "source": [
    "from vaderSentiment.vaderSentiment import SentimentIntensityAnalyzer\n",
    "\n",
    "def sentiment_scores(sentence):\n",
    "  \n",
    "    # Create a SentimentIntensityAnalyzer object.\n",
    "    sid_obj = SentimentIntensityAnalyzer()\n",
    "  \n",
    "    # polarity_scores method of SentimentIntensityAnalyzer\n",
    "    # oject gives a sentiment dictionary.\n",
    "    # which contains pos, neg, neu, and compound scores.\n",
    "    sentiment_dict = sid_obj.polarity_scores(sentence)\n",
    "      \n",
    "    print(\"Overall sentiment dictionary is : \", sentiment_dict)\n",
    "    print(\"sentence was rated as \", sentiment_dict['neg']*100, \"% Negative\")\n",
    "    print(\"sentence was rated as \", sentiment_dict['neu']*100, \"% Neutral\")\n",
    "    print(\"sentence was rated as \", sentiment_dict['pos']*100, \"% Positive\")\n",
    "  \n",
    "    print(\"Sentence Overall Rated As\", end = \" \")\n",
    "  \n",
    "    # decide sentiment as positive, negative and neutral\n",
    "    if sentiment_dict['compound'] >= 0.05 :\n",
    "        print(\"Positive\")\n",
    "  \n",
    "    elif sentiment_dict['compound'] <= - 0.05 :\n",
    "        print(\"Negative\")\n",
    "  \n",
    "    else :\n",
    "        print(\"Neutral\")   "
   ]
  },
  {
   "cell_type": "code",
   "execution_count": 56,
   "metadata": {},
   "outputs": [
    {
     "name": "stdout",
     "output_type": "stream",
     "text": [
      "Based on his international background 00580346 Flores has proven that he is an excellent contributor in various corporate\n",
      "Overall sentiment dictionary is :  {'neg': 0.0, 'neu': 0.821, 'pos': 0.179, 'compound': 0.5719}\n",
      "sentence was rated as  0.0 % Negative\n",
      "sentence was rated as  82.1 % Neutral\n",
      "sentence was rated as  17.9 % Positive\n",
      "Sentence Overall Rated As Positive\n",
      "and took up the lead role in the quarterly OD benchmark BoD paper with an impressing\n",
      "Overall sentiment dictionary is :  {'neg': 0.0, 'neu': 0.811, 'pos': 0.189, 'compound': 0.5423}\n",
      "sentence was rated as  0.0 % Negative\n",
      "sentence was rated as  81.10000000000001 % Neutral\n",
      "sentence was rated as  18.9 % Positive\n",
      "Sentence Overall Rated As Positive\n",
      "00580346’s openness to learn new topics\n",
      "Overall sentiment dictionary is :  {'neg': 0.0, 'neu': 0.676, 'pos': 0.324, 'compound': 0.34}\n",
      "sentence was rated as  0.0 % Negative\n",
      "sentence was rated as  67.60000000000001 % Neutral\n",
      "sentence was rated as  32.4 % Positive\n",
      "Sentence Overall Rated As Positive\n",
      ", 00580346 has ensured an active exchange with his predecessor with a keen interest to gather as many insights as possible\n",
      "Overall sentiment dictionary is :  {'neg': 0.0, 'neu': 0.687, 'pos': 0.313, 'compound': 0.802}\n",
      "sentence was rated as  0.0 % Negative\n",
      "sentence was rated as  68.7 % Neutral\n",
      "sentence was rated as  31.3 % Positive\n",
      "Sentence Overall Rated As Positive\n",
      ", he has proactively developed a sound business plan for the part of his portfolio associated with the upcoming BASF Colors & Pigment carveout\n",
      "Overall sentiment dictionary is :  {'neg': 0.0, 'neu': 1.0, 'pos': 0.0, 'compound': 0.0}\n",
      "sentence was rated as  0.0 % Negative\n",
      "sentence was rated as  100.0 % Neutral\n",
      "sentence was rated as  0.0 % Positive\n",
      "Sentence Overall Rated As Neutral\n",
      "and this should provide the necessary basis for him to adopt his communication more stringently to the affected audience\n",
      "Overall sentiment dictionary is :  {'neg': 0.079, 'neu': 0.837, 'pos': 0.084, 'compound': 0.0258}\n",
      "sentence was rated as  7.9 % Negative\n",
      "sentence was rated as  83.7 % Neutral\n",
      "sentence was rated as  8.4 % Positive\n",
      "Sentence Overall Rated As Neutral\n",
      "and that he navigates smoothly in any diverse cultural context\n",
      "Overall sentiment dictionary is :  {'neg': 0.0, 'neu': 1.0, 'pos': 0.0, 'compound': 0.0}\n",
      "sentence was rated as  0.0 % Negative\n",
      "sentence was rated as  100.0 % Neutral\n",
      "sentence was rated as  0.0 % Positive\n",
      "Sentence Overall Rated As Neutral\n",
      ", 00580346 has already proven in his first year in the current position that he can handle a far more significant business portfolio\n",
      "Overall sentiment dictionary is :  {'neg': 0.0, 'neu': 0.913, 'pos': 0.087, 'compound': 0.2716}\n",
      "sentence was rated as  0.0 % Negative\n",
      "sentence was rated as  91.3 % Neutral\n",
      "sentence was rated as  8.7 % Positive\n",
      "Sentence Overall Rated As Positive\n",
      "and processes was reflected in the continued support of major corporate portfolio projects\n",
      "Overall sentiment dictionary is :  {'neg': 0.0, 'neu': 0.816, 'pos': 0.184, 'compound': 0.4019}\n",
      "sentence was rated as  0.0 % Negative\n",
      "sentence was rated as  81.6 % Neutral\n",
      "sentence was rated as  18.4 % Positive\n",
      "Sentence Overall Rated As Positive\n",
      ", embracing the value of multiple perspectives\n",
      "Overall sentiment dictionary is :  {'neg': 0.0, 'neu': 0.714, 'pos': 0.286, 'compound': 0.34}\n",
      "sentence was rated as  0.0 % Negative\n",
      "sentence was rated as  71.39999999999999 % Neutral\n",
      "sentence was rated as  28.599999999999998 % Positive\n",
      "Sentence Overall Rated As Positive\n"
     ]
    }
   ],
   "source": [
    "for s in set_creative:\n",
    "    print(s.text)\n",
    "    sentiment_scores(s.text)"
   ]
  },
  {
   "cell_type": "code",
   "execution_count": null,
   "metadata": {},
   "outputs": [],
   "source": [
    "positive sentiment : (compound score >= 0.05)\n",
    "neutral sentiment : (compound score > -0.05) and (compound score < 0.05)\n",
    "negative sentiment : (compound score <= -0.05)"
   ]
  }
 ],
 "metadata": {
  "kernelspec": {
   "display_name": "ml_env",
   "language": "python",
   "name": "ml_env"
  },
  "language_info": {
   "codemirror_mode": {
    "name": "ipython",
    "version": 3
   },
   "file_extension": ".py",
   "mimetype": "text/x-python",
   "name": "python",
   "nbconvert_exporter": "python",
   "pygments_lexer": "ipython3",
   "version": "3.8.2"
  }
 },
 "nbformat": 4,
 "nbformat_minor": 5
}
