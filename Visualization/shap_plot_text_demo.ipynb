{
 "cells": [
  {
   "cell_type": "code",
   "execution_count": 1,
   "metadata": {},
   "outputs": [],
   "source": [
    "import transformers\n",
    "import shap\n",
    "from Model.evaluation_model import open_score, get_nlp_lg\n",
    "from Model.model_utils import load_data\n",
    "import matplotlib.pyplot as plt"
   ]
  },
  {
   "cell_type": "code",
   "execution_count": 2,
   "metadata": {
    "pycharm": {
     "name": "#%%\n"
    }
   },
   "outputs": [],
   "source": [
    "nlp_lg = get_nlp_lg()"
   ]
  },
  {
   "cell_type": "code",
   "execution_count": 3,
   "metadata": {
    "pycharm": {
     "name": "#%%\n"
    }
   },
   "outputs": [],
   "source": [
    "# load a transformers pipeline model\n",
    "model = transformers.pipeline('sentiment-analysis', return_all_scores=True)\n",
    "#model = open_score\n"
   ]
  },
  {
   "cell_type": "code",
   "execution_count": 4,
   "metadata": {
    "pycharm": {
     "name": "#%%\n"
    }
   },
   "outputs": [
    {
     "data": {
      "text/plain": "shap.models._model.Model"
     },
     "execution_count": 4,
     "metadata": {},
     "output_type": "execute_result"
    }
   ],
   "source": [
    "#explain the model on two sample inputs\n",
    "explainer = shap.Explainer(model)\n",
    "shap.models.Model\n",
    "#explainer = shap.explainers.other.Coefficent(model)"
   ]
  },
  {
   "cell_type": "code",
   "execution_count": 11,
   "metadata": {
    "pycharm": {
     "name": "#%%s\n"
    }
   },
   "outputs": [
    {
     "data": {
      "text/plain": "  0%|          | 0/48 [00:00<?, ?it/s]",
      "application/vnd.jupyter.widget-view+json": {
       "version_major": 2,
       "version_minor": 0,
       "model_id": "b789e5836fa94b1891358d5a0479997f"
      }
     },
     "metadata": {},
     "output_type": "display_data"
    }
   ],
   "source": [
    "shap_values = explainer([\"He is the most creative person in the whole world. But he shows a lack of openness. At the same time he has a great entrepreneurial mindset.\"])"
   ]
  },
  {
   "cell_type": "code",
   "execution_count": 12,
   "metadata": {
    "pycharm": {
     "name": "#%%\n"
    }
   },
   "outputs": [
    {
     "data": {
      "text/plain": "<IPython.core.display.HTML object>",
      "text/html": "<svg width=\"100%\" height=\"80px\"><line x1=\"0\" y1=\"33\" x2=\"100%\" y2=\"33\" style=\"stroke:rgb(150,150,150);stroke-width:1\" /><line x1=\"44.679162%\" y1=\"33\" x2=\"44.679162%\" y2=\"37\" style=\"stroke:rgb(150,150,150);stroke-width:1\" /><text x=\"44.679162%\" y=\"27\" font-size=\"12px\" fill=\"rgb(120,120,120)\" dominant-baseline=\"bottom\" text-anchor=\"middle\">0.188196</text><text x=\"44.679162%\" y=\"10\" font-size=\"12px\" fill=\"rgb(120,120,120)\" dominant-baseline=\"bottom\" text-anchor=\"middle\">base value</text><line x1=\"30.393448%\" y1=\"33\" x2=\"30.393448%\" y2=\"37\" style=\"stroke:rgb(150,150,150);stroke-width:1\" /><text x=\"30.393448%\" y=\"27\" font-size=\"12px\" fill=\"rgb(120,120,120)\" dominant-baseline=\"bottom\" text-anchor=\"middle\">-2.139332</text><line x1=\"16.107734%\" y1=\"33\" x2=\"16.107734%\" y2=\"37\" style=\"stroke:rgb(150,150,150);stroke-width:1\" /><text x=\"16.107734%\" y=\"27\" font-size=\"12px\" fill=\"rgb(120,120,120)\" dominant-baseline=\"bottom\" text-anchor=\"middle\">-4.466860</text><line x1=\"58.964876%\" y1=\"33\" x2=\"58.964876%\" y2=\"37\" style=\"stroke:rgb(150,150,150);stroke-width:1\" /><text x=\"58.964876%\" y=\"27\" font-size=\"12px\" fill=\"rgb(120,120,120)\" dominant-baseline=\"bottom\" text-anchor=\"middle\">2.515723</text><line x1=\"73.250591%\" y1=\"33\" x2=\"73.250591%\" y2=\"37\" style=\"stroke:rgb(150,150,150);stroke-width:1\" /><text x=\"73.250591%\" y=\"27\" font-size=\"12px\" fill=\"rgb(120,120,120)\" dominant-baseline=\"bottom\" text-anchor=\"middle\">4.843251</text><line x1=\"87.536305%\" y1=\"33\" x2=\"87.536305%\" y2=\"37\" style=\"stroke:rgb(150,150,150);stroke-width:1\" /><text x=\"87.536305%\" y=\"27\" font-size=\"12px\" fill=\"rgb(120,120,120)\" dominant-baseline=\"bottom\" text-anchor=\"middle\">7.170779</text><line x1=\"55.320838%\" y1=\"33\" x2=\"55.320838%\" y2=\"37\" style=\"stroke:rgb(150,150,150);stroke-width:1\" /><text x=\"55.320838%\" y=\"27\" font-size=\"13px\" style=\"stroke:#ffffff;stroke-width:8px;\" font-weight=\"bold\" fill=\"rgb(255,255,255)\" dominant-baseline=\"bottom\" text-anchor=\"middle\">1.922011</text><text x=\"55.320838%\" y=\"27\" font-size=\"13px\" font-weight=\"bold\" fill=\"rgb(0,0,0)\" dominant-baseline=\"bottom\" text-anchor=\"middle\">1.922011</text><text x=\"55.320838%\" y=\"10\" font-size=\"12px\" fill=\"rgb(120,120,120)\" dominant-baseline=\"bottom\" text-anchor=\"middle\">f(x)</text><rect x=\"7.962894344518277%\" width=\"47.35794349888665%\" y=\"40\" height=\"18\" style=\"fill:rgb(255.0, 0.0, 81.08083606031792); stroke-width:0; stroke:rgb(0,0,0)\" /><line x1=\"34.823387656373825%\" x2=\"55.32083784340494%\" y1=\"60\" y2=\"60\" id=\"_fb_dkndzgglmzrloauyvvkn_ind_3\" style=\"stroke:rgb(255.0, 0.0, 81.08083606031792);stroke-width:2; opacity: 0\"/><text x=\"45.072112749889385%\" y=\"71\" font-size=\"12px\" id=\"_fs_dkndzgglmzrloauyvvkn_ind_3\" fill=\"rgb(255.0, 0.0, 81.08083606031792)\" style=\"opacity: 0\" dominant-baseline=\"middle\" text-anchor=\"middle\">3.34</text><svg x=\"34.823387656373825%\" y=\"40\" height=\"20\" width=\"20.497450187031113%\">  <svg x=\"0\" y=\"0\" width=\"100%\" height=\"100%\">    <text x=\"50%\" y=\"9\" font-size=\"12px\" fill=\"rgb(255,255,255)\" dominant-baseline=\"middle\" text-anchor=\"middle\">At the same time he has a great</text>  </svg></svg><line x1=\"15.044036890920626%\" x2=\"34.823387656373825%\" y1=\"60\" y2=\"60\" id=\"_fb_dkndzgglmzrloauyvvkn_ind_4\" style=\"stroke:rgb(255.0, 0.0, 81.08083606031792);stroke-width:2; opacity: 0\"/><text x=\"24.933712273647224%\" y=\"71\" font-size=\"12px\" id=\"_fs_dkndzgglmzrloauyvvkn_ind_4\" fill=\"rgb(255.0, 0.0, 81.08083606031792)\" style=\"opacity: 0\" dominant-baseline=\"middle\" text-anchor=\"middle\">3.223</text><svg x=\"15.044036890920626%\" y=\"40\" height=\"20\" width=\"19.7793507654532%\">  <svg x=\"0\" y=\"0\" width=\"100%\" height=\"100%\">    <text x=\"50%\" y=\"9\" font-size=\"12px\" fill=\"rgb(255,255,255)\" dominant-baseline=\"middle\" text-anchor=\"middle\">entrepreneurial mindset.</text>  </svg></svg><line x1=\"7.962894344518273%\" x2=\"15.044036890920626%\" y1=\"60\" y2=\"60\" id=\"_fb_dkndzgglmzrloauyvvkn_ind_1\" style=\"stroke:rgb(255.0, 0.0, 81.08083606031792);stroke-width:2; opacity: 0\"/><text x=\"11.50346561771945%\" y=\"71\" font-size=\"12px\" id=\"_fs_dkndzgglmzrloauyvvkn_ind_1\" fill=\"rgb(255.0, 0.0, 81.08083606031792)\" style=\"opacity: 0\" dominant-baseline=\"middle\" text-anchor=\"middle\">1.154</text><svg x=\"7.962894344518273%\" y=\"40\" height=\"20\" width=\"7.081142546402353%\">  <svg x=\"0\" y=\"0\" width=\"100%\" height=\"100%\">    <text x=\"50%\" y=\"9\" font-size=\"12px\" fill=\"rgb(255,255,255)\" dominant-baseline=\"middle\" text-anchor=\"middle\">He is the most creative person in the whole world.</text>  </svg></svg><g transform=\"translate(0,0)\">  <svg x=\"34.823387656373825%\" y=\"40\" height=\"18\" overflow=\"visible\" width=\"30\">    <path d=\"M 0 -9 l 6 18 L 0 25\" fill=\"none\" style=\"stroke:rgb(255.0, 0.0, 81.08083606031792);stroke-width:2\" />  </svg></g><g transform=\"translate(2,0)\">  <svg x=\"34.823387656373825%\" y=\"40\" height=\"18\" overflow=\"visible\" width=\"30\">    <path d=\"M 0 -9 l 6 18 L 0 25\" fill=\"none\" style=\"stroke:rgb(255.0, 0.0, 81.08083606031792);stroke-width:2\" />  </svg></g><g transform=\"translate(4,0)\">  <svg x=\"34.823387656373825%\" y=\"40\" height=\"18\" overflow=\"visible\" width=\"30\">    <path d=\"M 0 -9 l 6 18 L 0 25\" fill=\"none\" style=\"stroke:rgb(255.0, 0.0, 81.08083606031792);stroke-width:2\" />  </svg></g><g transform=\"translate(6,0)\">  <svg x=\"34.823387656373825%\" y=\"40\" height=\"18\" overflow=\"visible\" width=\"30\">    <path d=\"M 0 -9 l 6 18 L 0 25\" fill=\"none\" style=\"stroke:rgb(255.0, 0.0, 81.08083606031792);stroke-width:2\" />  </svg></g><g transform=\"translate(-8,0)\">  <svg x=\"34.823387656373825%\" y=\"40\" height=\"18\" overflow=\"visible\" width=\"30\">    <path d=\"M 0 -9 l 6 18 L 0 25\" fill=\"none\" style=\"stroke:rgb(255.0, 0.0, 81.08083606031792);stroke-width:2\" />  </svg></g><g transform=\"translate(-6,0)\">  <svg x=\"34.823387656373825%\" y=\"40\" height=\"18\" overflow=\"visible\" width=\"30\">    <path d=\"M 0 -9 l 6 18 L 0 25\" fill=\"none\" style=\"stroke:rgb(255.0, 0.0, 81.08083606031792);stroke-width:2\" />  </svg></g><g transform=\"translate(-4,0)\">  <svg x=\"34.823387656373825%\" y=\"40\" height=\"18\" overflow=\"visible\" width=\"30\">    <path d=\"M 0 -9 l 6 18 L 0 25\" fill=\"none\" style=\"stroke:rgb(255.0, 0.0, 81.08083606031792);stroke-width:2\" />  </svg></g><g transform=\"translate(-2,0)\">  <svg x=\"34.823387656373825%\" y=\"40\" height=\"18\" overflow=\"visible\" width=\"30\">    <path d=\"M 0 -9 l 6 18 L 0 25\" fill=\"none\" style=\"stroke:rgb(255.0, 0.0, 81.08083606031792);stroke-width:2\" />  </svg></g><g transform=\"translate(0,0)\">  <svg x=\"15.044036890920626%\" y=\"40\" height=\"18\" overflow=\"visible\" width=\"30\">    <path d=\"M 0 -9 l 6 18 L 0 25\" fill=\"none\" style=\"stroke:rgb(255.0, 0.0, 81.08083606031792);stroke-width:2\" />  </svg></g><g transform=\"translate(2,0)\">  <svg x=\"15.044036890920626%\" y=\"40\" height=\"18\" overflow=\"visible\" width=\"30\">    <path d=\"M 0 -9 l 6 18 L 0 25\" fill=\"none\" style=\"stroke:rgb(255.0, 0.0, 81.08083606031792);stroke-width:2\" />  </svg></g><g transform=\"translate(4,0)\">  <svg x=\"15.044036890920626%\" y=\"40\" height=\"18\" overflow=\"visible\" width=\"30\">    <path d=\"M 0 -9 l 6 18 L 0 25\" fill=\"none\" style=\"stroke:rgb(255.0, 0.0, 81.08083606031792);stroke-width:2\" />  </svg></g><g transform=\"translate(6,0)\">  <svg x=\"15.044036890920626%\" y=\"40\" height=\"18\" overflow=\"visible\" width=\"30\">    <path d=\"M 0 -9 l 6 18 L 0 25\" fill=\"none\" style=\"stroke:rgb(255.0, 0.0, 81.08083606031792);stroke-width:2\" />  </svg></g><g transform=\"translate(-8,0)\">  <svg x=\"15.044036890920626%\" y=\"40\" height=\"18\" overflow=\"visible\" width=\"30\">    <path d=\"M 0 -9 l 6 18 L 0 25\" fill=\"none\" style=\"stroke:rgb(255.0, 0.0, 81.08083606031792);stroke-width:2\" />  </svg></g><g transform=\"translate(-6,0)\">  <svg x=\"15.044036890920626%\" y=\"40\" height=\"18\" overflow=\"visible\" width=\"30\">    <path d=\"M 0 -9 l 6 18 L 0 25\" fill=\"none\" style=\"stroke:rgb(255.0, 0.0, 81.08083606031792);stroke-width:2\" />  </svg></g><g transform=\"translate(-4,0)\">  <svg x=\"15.044036890920626%\" y=\"40\" height=\"18\" overflow=\"visible\" width=\"30\">    <path d=\"M 0 -9 l 6 18 L 0 25\" fill=\"none\" style=\"stroke:rgb(255.0, 0.0, 81.08083606031792);stroke-width:2\" />  </svg></g><g transform=\"translate(-2,0)\">  <svg x=\"15.044036890920626%\" y=\"40\" height=\"18\" overflow=\"visible\" width=\"30\">    <path d=\"M 0 -9 l 6 18 L 0 25\" fill=\"none\" style=\"stroke:rgb(255.0, 0.0, 81.08083606031792);stroke-width:2\" />  </svg></g><rect transform=\"translate(-8,0)\" x=\"55.32083784340494%\" y=\"40\" width=\"8\" height=\"18\" style=\"fill:rgb(255.0, 0.0, 81.08083606031792)\"/><g transform=\"translate(-11.5,0)\">  <svg x=\"7.962894344518277%\" y=\"40\" height=\"18\" overflow=\"visible\" width=\"30\">    <path d=\"M 10 -9 l 6 18 L 10 25 L 0 25 L 0 -9\" fill=\"#ffffff\" style=\"stroke:rgb(255,255,255);stroke-width:2\" />  </svg></g><g transform=\"translate(-1.5,0)\">  <svg x=\"55.32083784340494%\" y=\"40\" height=\"18\" overflow=\"visible\" width=\"30\">    <path d=\"M 0 -9 l 6 18 L 0 25\" fill=\"none\" style=\"stroke:rgb(255, 195, 213);stroke-width:2\" />  </svg></g><rect x=\"34.823387656373825%\" y=\"40\" height=\"20\" width=\"20.497450187031113%\"      onmouseover=\"document.getElementById('_tp_dkndzgglmzrloauyvvkn_ind_3').style.textDecoration = 'underline';document.getElementById('_fs_dkndzgglmzrloauyvvkn_ind_3').style.opacity = 1;document.getElementById('_fb_dkndzgglmzrloauyvvkn_ind_3').style.opacity = 1;\"      onmouseout=\"document.getElementById('_tp_dkndzgglmzrloauyvvkn_ind_3').style.textDecoration = 'none';document.getElementById('_fs_dkndzgglmzrloauyvvkn_ind_3').style.opacity = 0;document.getElementById('_fb_dkndzgglmzrloauyvvkn_ind_3').style.opacity = 0;\" style=\"fill:rgb(0,0,0,0)\" /><g transform=\"translate(-1.5,0)\">  <svg x=\"34.823387656373825%\" y=\"40\" height=\"18\" overflow=\"visible\" width=\"30\">    <path d=\"M 0 -9 l 6 18 L 0 25\" fill=\"none\" style=\"stroke:rgb(255, 195, 213);stroke-width:2\" />  </svg></g><rect x=\"15.044036890920626%\" y=\"40\" height=\"20\" width=\"19.7793507654532%\"      onmouseover=\"document.getElementById('_tp_dkndzgglmzrloauyvvkn_ind_4').style.textDecoration = 'underline';document.getElementById('_fs_dkndzgglmzrloauyvvkn_ind_4').style.opacity = 1;document.getElementById('_fb_dkndzgglmzrloauyvvkn_ind_4').style.opacity = 1;\"      onmouseout=\"document.getElementById('_tp_dkndzgglmzrloauyvvkn_ind_4').style.textDecoration = 'none';document.getElementById('_fs_dkndzgglmzrloauyvvkn_ind_4').style.opacity = 0;document.getElementById('_fb_dkndzgglmzrloauyvvkn_ind_4').style.opacity = 0;\" style=\"fill:rgb(0,0,0,0)\" /><rect x=\"7.962894344518273%\" y=\"40\" height=\"20\" width=\"7.081142546402353%\"      onmouseover=\"document.getElementById('_tp_dkndzgglmzrloauyvvkn_ind_1').style.textDecoration = 'underline';document.getElementById('_fs_dkndzgglmzrloauyvvkn_ind_1').style.opacity = 1;document.getElementById('_fb_dkndzgglmzrloauyvvkn_ind_1').style.opacity = 1;\"      onmouseout=\"document.getElementById('_tp_dkndzgglmzrloauyvvkn_ind_1').style.textDecoration = 'none';document.getElementById('_fs_dkndzgglmzrloauyvvkn_ind_1').style.opacity = 0;document.getElementById('_fb_dkndzgglmzrloauyvvkn_ind_1').style.opacity = 0;\" style=\"fill:rgb(0,0,0,0)\" /><rect x=\"55.32083784340494%\" width=\"36.71626781207681%\" y=\"40\" height=\"18\" style=\"fill:rgb(0.0, 138.56128015770724, 250.76166088685727); stroke-width:0; stroke:rgb(0,0,0)\" /><line x1=\"55.32083784340494%\" x2=\"92.03709333454394%\" y1=\"60\" y2=\"60\" id=\"_fb_dkndzgglmzrloauyvvkn_ind_2\" style=\"stroke:rgb(0.0, 138.56128015770724, 250.76166088685727);stroke-width:2; opacity: 0\"/><text x=\"73.67896558897444%\" y=\"71\" font-size=\"12px\" fill=\"rgb(0.0, 138.56128015770724, 250.76166088685727)\" id=\"_fs_dkndzgglmzrloauyvvkn_ind_2\" style=\"opacity: 0\" dominant-baseline=\"middle\" text-anchor=\"middle\">-5.982</text><svg x=\"55.32083784340494%\" y=\"40\" height=\"20\" width=\"36.716255491139%\">  <svg x=\"0\" y=\"0\" width=\"100%\" height=\"100%\">    <text x=\"50%\" y=\"9\" font-size=\"12px\" fill=\"rgb(255,255,255)\" dominant-baseline=\"middle\" text-anchor=\"middle\">But he shows a lack of openness.</text>  </svg></svg><line x1=\"92.03709333454394%\" x2=\"92.03710154850246%\" y1=\"60\" y2=\"60\" id=\"_fb_dkndzgglmzrloauyvvkn_ind_5\" style=\"stroke:rgb(0.0, 138.56128015770724, 250.76166088685727);stroke-width:2; opacity: 0\"/><text x=\"92.0370974415232%\" y=\"71\" font-size=\"12px\" fill=\"rgb(0.0, 138.56128015770724, 250.76166088685727)\" id=\"_fs_dkndzgglmzrloauyvvkn_ind_5\" style=\"opacity: 0\" dominant-baseline=\"middle\" text-anchor=\"middle\">-0.0</text><svg x=\"92.03709333454394%\" y=\"40\" height=\"20\" width=\"8.213958523128895e-06%\">  <svg x=\"0\" y=\"0\" width=\"100%\" height=\"100%\">    <text x=\"50%\" y=\"9\" font-size=\"12px\" fill=\"rgb(255,255,255)\" dominant-baseline=\"middle\" text-anchor=\"middle\"></text>  </svg></svg><line x1=\"92.03710154850246%\" x2=\"92.03710565548174%\" y1=\"60\" y2=\"60\" id=\"_fb_dkndzgglmzrloauyvvkn_ind_0\" style=\"stroke:rgb(0.0, 138.56128015770724, 250.76166088685727);stroke-width:2; opacity: 0\"/><text x=\"92.0371036019921%\" y=\"71\" font-size=\"12px\" fill=\"rgb(0.0, 138.56128015770724, 250.76166088685727)\" id=\"_fs_dkndzgglmzrloauyvvkn_ind_0\" style=\"opacity: 0\" dominant-baseline=\"middle\" text-anchor=\"middle\">-0.0</text><svg x=\"92.03710154850246%\" y=\"40\" height=\"20\" width=\"4.106979275775302e-06%\">  <svg x=\"0\" y=\"0\" width=\"100%\" height=\"100%\">    <text x=\"50%\" y=\"9\" font-size=\"12px\" fill=\"rgb(255,255,255)\" dominant-baseline=\"middle\" text-anchor=\"middle\"></text>  </svg></svg><g transform=\"translate(-8,0)\">  <svg x=\"92.03709333454394%\" y=\"40\" height=\"18\" overflow=\"visible\" width=\"30\">    <path d=\"M 8 -9 l -6 18 L 8 25\" fill=\"none\" style=\"stroke:rgb(0.0, 138.56128015770724, 250.76166088685727);stroke-width:2\" />  </svg></g><g transform=\"translate(-10,0)\">  <svg x=\"92.03709333454394%\" y=\"40\" height=\"18\" overflow=\"visible\" width=\"30\">    <path d=\"M 8 -9 l -6 18 L 8 25\" fill=\"none\" style=\"stroke:rgb(0.0, 138.56128015770724, 250.76166088685727);stroke-width:2\" />  </svg></g><g transform=\"translate(-12,0)\">  <svg x=\"92.03709333454394%\" y=\"40\" height=\"18\" overflow=\"visible\" width=\"30\">    <path d=\"M 8 -9 l -6 18 L 8 25\" fill=\"none\" style=\"stroke:rgb(0.0, 138.56128015770724, 250.76166088685727);stroke-width:2\" />  </svg></g><g transform=\"translate(-14,0)\">  <svg x=\"92.03709333454394%\" y=\"40\" height=\"18\" overflow=\"visible\" width=\"30\">    <path d=\"M 8 -9 l -6 18 L 8 25\" fill=\"none\" style=\"stroke:rgb(0.0, 138.56128015770724, 250.76166088685727);stroke-width:2\" />  </svg></g><g transform=\"translate(2,0)\">  <svg x=\"92.03709333454394%\" y=\"40\" height=\"18\" overflow=\"visible\" width=\"30\">    <path d=\"M 8 -9 l -6 18 L 8 25\" fill=\"none\" style=\"stroke:rgb(0.0, 138.56128015770724, 250.76166088685727);stroke-width:2\" />  </svg></g><g transform=\"translate(0,0)\">  <svg x=\"92.03709333454394%\" y=\"40\" height=\"18\" overflow=\"visible\" width=\"30\">    <path d=\"M 8 -9 l -6 18 L 8 25\" fill=\"none\" style=\"stroke:rgb(0.0, 138.56128015770724, 250.76166088685727);stroke-width:2\" />  </svg></g><g transform=\"translate(-2,0)\">  <svg x=\"92.03709333454394%\" y=\"40\" height=\"18\" overflow=\"visible\" width=\"30\">    <path d=\"M 8 -9 l -6 18 L 8 25\" fill=\"none\" style=\"stroke:rgb(0.0, 138.56128015770724, 250.76166088685727);stroke-width:2\" />  </svg></g><g transform=\"translate(-4,0)\">  <svg x=\"92.03709333454394%\" y=\"40\" height=\"18\" overflow=\"visible\" width=\"30\">    <path d=\"M 8 -9 l -6 18 L 8 25\" fill=\"none\" style=\"stroke:rgb(0.0, 138.56128015770724, 250.76166088685727);stroke-width:2\" />  </svg></g><g transform=\"translate(-8,0)\">  <svg x=\"92.03710154850246%\" y=\"40\" height=\"18\" overflow=\"visible\" width=\"30\">    <path d=\"M 8 -9 l -6 18 L 8 25\" fill=\"none\" style=\"stroke:rgb(0.0, 138.56128015770724, 250.76166088685727);stroke-width:2\" />  </svg></g><g transform=\"translate(-10,0)\">  <svg x=\"92.03710154850246%\" y=\"40\" height=\"18\" overflow=\"visible\" width=\"30\">    <path d=\"M 8 -9 l -6 18 L 8 25\" fill=\"none\" style=\"stroke:rgb(0.0, 138.56128015770724, 250.76166088685727);stroke-width:2\" />  </svg></g><g transform=\"translate(-12,0)\">  <svg x=\"92.03710154850246%\" y=\"40\" height=\"18\" overflow=\"visible\" width=\"30\">    <path d=\"M 8 -9 l -6 18 L 8 25\" fill=\"none\" style=\"stroke:rgb(0.0, 138.56128015770724, 250.76166088685727);stroke-width:2\" />  </svg></g><g transform=\"translate(-14,0)\">  <svg x=\"92.03710154850246%\" y=\"40\" height=\"18\" overflow=\"visible\" width=\"30\">    <path d=\"M 8 -9 l -6 18 L 8 25\" fill=\"none\" style=\"stroke:rgb(0.0, 138.56128015770724, 250.76166088685727);stroke-width:2\" />  </svg></g><g transform=\"translate(2,0)\">  <svg x=\"92.03710154850246%\" y=\"40\" height=\"18\" overflow=\"visible\" width=\"30\">    <path d=\"M 8 -9 l -6 18 L 8 25\" fill=\"none\" style=\"stroke:rgb(0.0, 138.56128015770724, 250.76166088685727);stroke-width:2\" />  </svg></g><g transform=\"translate(0,0)\">  <svg x=\"92.03710154850246%\" y=\"40\" height=\"18\" overflow=\"visible\" width=\"30\">    <path d=\"M 8 -9 l -6 18 L 8 25\" fill=\"none\" style=\"stroke:rgb(0.0, 138.56128015770724, 250.76166088685727);stroke-width:2\" />  </svg></g><g transform=\"translate(-2,0)\">  <svg x=\"92.03710154850246%\" y=\"40\" height=\"18\" overflow=\"visible\" width=\"30\">    <path d=\"M 8 -9 l -6 18 L 8 25\" fill=\"none\" style=\"stroke:rgb(0.0, 138.56128015770724, 250.76166088685727);stroke-width:2\" />  </svg></g><g transform=\"translate(-4,0)\">  <svg x=\"92.03710154850246%\" y=\"40\" height=\"18\" overflow=\"visible\" width=\"30\">    <path d=\"M 8 -9 l -6 18 L 8 25\" fill=\"none\" style=\"stroke:rgb(0.0, 138.56128015770724, 250.76166088685727);stroke-width:2\" />  </svg></g><rect transform=\"translate(0,0)\" x=\"55.32083784340494%\" y=\"40\" width=\"8\" height=\"18\" style=\"fill:rgb(0.0, 138.56128015770724, 250.76166088685727)\"/><g transform=\"translate(-6.0,0)\">  <svg x=\"92.03710565548174%\" y=\"40\" height=\"18\" overflow=\"visible\" width=\"30\">    <path d=\"M 8 -9 l -6 18 L 8 25 L 20 25 L 20 -9\" fill=\"#ffffff\" style=\"stroke:rgb(255,255,255);stroke-width:2\" />  </svg></g><g transform=\"translate(-6.0,0)\">  <svg x=\"92.03709333454394%\" y=\"40\" height=\"18\" overflow=\"visible\" width=\"30\">    <path d=\"M 8 -9 l -6 18 L 8 25\" fill=\"none\" style=\"stroke:rgb(208, 230, 250);stroke-width:2\" />  </svg></g><rect x=\"55.32083784340494%\" y=\"40\" height=\"20\" width=\"36.716255491139%\"      onmouseover=\"document.getElementById('_tp_dkndzgglmzrloauyvvkn_ind_2').style.textDecoration = 'underline';document.getElementById('_fs_dkndzgglmzrloauyvvkn_ind_2').style.opacity = 1;document.getElementById('_fb_dkndzgglmzrloauyvvkn_ind_2').style.opacity = 1;\"      onmouseout=\"document.getElementById('_tp_dkndzgglmzrloauyvvkn_ind_2').style.textDecoration = 'none';document.getElementById('_fs_dkndzgglmzrloauyvvkn_ind_2').style.opacity = 0;document.getElementById('_fb_dkndzgglmzrloauyvvkn_ind_2').style.opacity = 0;\" style=\"fill:rgb(0,0,0,0)\" /><g transform=\"translate(-6.0,0)\">  <svg x=\"92.03710154850246%\" y=\"40\" height=\"18\" overflow=\"visible\" width=\"30\">    <path d=\"M 8 -9 l -6 18 L 8 25\" fill=\"none\" style=\"stroke:rgb(208, 230, 250);stroke-width:2\" />  </svg></g><rect x=\"92.03709333454394%\" y=\"40\" height=\"20\" width=\"8.213958523128895e-06%\"      onmouseover=\"document.getElementById('_tp_dkndzgglmzrloauyvvkn_ind_5').style.textDecoration = 'underline';document.getElementById('_fs_dkndzgglmzrloauyvvkn_ind_5').style.opacity = 1;document.getElementById('_fb_dkndzgglmzrloauyvvkn_ind_5').style.opacity = 1;\"      onmouseout=\"document.getElementById('_tp_dkndzgglmzrloauyvvkn_ind_5').style.textDecoration = 'none';document.getElementById('_fs_dkndzgglmzrloauyvvkn_ind_5').style.opacity = 0;document.getElementById('_fb_dkndzgglmzrloauyvvkn_ind_5').style.opacity = 0;\" style=\"fill:rgb(0,0,0,0)\" /><rect x=\"92.03710154850246%\" y=\"40\" height=\"20\" width=\"4.106979275775302e-06%\"      onmouseover=\"document.getElementById('_tp_dkndzgglmzrloauyvvkn_ind_0').style.textDecoration = 'underline';document.getElementById('_fs_dkndzgglmzrloauyvvkn_ind_0').style.opacity = 1;document.getElementById('_fb_dkndzgglmzrloauyvvkn_ind_0').style.opacity = 1;\"      onmouseout=\"document.getElementById('_tp_dkndzgglmzrloauyvvkn_ind_0').style.textDecoration = 'none';document.getElementById('_fs_dkndzgglmzrloauyvvkn_ind_0').style.opacity = 0;document.getElementById('_fb_dkndzgglmzrloauyvvkn_ind_0').style.opacity = 0;\" style=\"fill:rgb(0,0,0,0)\" /></svg><div style='display: inline; text-align: center;'><div style='display: none; color: #999; padding-top: 0px; font-size: 12px;'>-0.0</div><div id='_tp_dkndzgglmzrloauyvvkn_ind_0'style='display: inline; background: rgba(54.70588235294111, 122.49411764705886, 213.40784313725496, 0.0); border-radius: 3px; padding: 0px'onclick=\"if (this.previousSibling.style.display == 'none') {this.previousSibling.style.display = 'block';this.parentNode.style.display = 'inline-block';} else {this.previousSibling.style.display = 'none';this.parentNode.style.display = 'inline';}\"onmouseover=\"document.getElementById('_fb_dkndzgglmzrloauyvvkn_ind_0').style.opacity = 1; document.getElementById('_fs_dkndzgglmzrloauyvvkn_ind_0').style.opacity = 1;\"onmouseout=\"document.getElementById('_fb_dkndzgglmzrloauyvvkn_ind_0').style.opacity = 0; document.getElementById('_fs_dkndzgglmzrloauyvvkn_ind_0').style.opacity = 0;\"></div></div><div style='display: inline; text-align: center;'><div style='display: none; color: #999; padding-top: 0px; font-size: 12px;'>1.154 / 11</div><div id='_tp_dkndzgglmzrloauyvvkn_ind_1'style='display: inline; background: rgba(255.0, 13.0, 87.0, 1.0); border-radius: 3px; padding: 0px'onclick=\"if (this.previousSibling.style.display == 'none') {this.previousSibling.style.display = 'block';this.parentNode.style.display = 'inline-block';} else {this.previousSibling.style.display = 'none';this.parentNode.style.display = 'inline';}\"onmouseover=\"document.getElementById('_fb_dkndzgglmzrloauyvvkn_ind_1').style.opacity = 1; document.getElementById('_fs_dkndzgglmzrloauyvvkn_ind_1').style.opacity = 1;\"onmouseout=\"document.getElementById('_fb_dkndzgglmzrloauyvvkn_ind_1').style.opacity = 0; document.getElementById('_fs_dkndzgglmzrloauyvvkn_ind_1').style.opacity = 0;\">He is the most creative person in the whole world. </div></div><div style='display: inline; text-align: center;'><div style='display: none; color: #999; padding-top: 0px; font-size: 12px;'>-5.982 / 9</div><div id='_tp_dkndzgglmzrloauyvvkn_ind_2'style='display: inline; background: rgba(30.0, 136.0, 229.0, 1.0); border-radius: 3px; padding: 0px'onclick=\"if (this.previousSibling.style.display == 'none') {this.previousSibling.style.display = 'block';this.parentNode.style.display = 'inline-block';} else {this.previousSibling.style.display = 'none';this.parentNode.style.display = 'inline';}\"onmouseover=\"document.getElementById('_fb_dkndzgglmzrloauyvvkn_ind_2').style.opacity = 1; document.getElementById('_fs_dkndzgglmzrloauyvvkn_ind_2').style.opacity = 1;\"onmouseout=\"document.getElementById('_fb_dkndzgglmzrloauyvvkn_ind_2').style.opacity = 0; document.getElementById('_fs_dkndzgglmzrloauyvvkn_ind_2').style.opacity = 0;\">But he shows a lack of openness. </div></div><div style='display: inline; text-align: center;'><div style='display: none; color: #999; padding-top: 0px; font-size: 12px;'>3.34 / 8</div><div id='_tp_dkndzgglmzrloauyvvkn_ind_3'style='display: inline; background: rgba(255.0, 13.0, 87.0, 1.0); border-radius: 3px; padding: 0px'onclick=\"if (this.previousSibling.style.display == 'none') {this.previousSibling.style.display = 'block';this.parentNode.style.display = 'inline-block';} else {this.previousSibling.style.display = 'none';this.parentNode.style.display = 'inline';}\"onmouseover=\"document.getElementById('_fb_dkndzgglmzrloauyvvkn_ind_3').style.opacity = 1; document.getElementById('_fs_dkndzgglmzrloauyvvkn_ind_3').style.opacity = 1;\"onmouseout=\"document.getElementById('_fb_dkndzgglmzrloauyvvkn_ind_3').style.opacity = 0; document.getElementById('_fs_dkndzgglmzrloauyvvkn_ind_3').style.opacity = 0;\">At the same time he has a great </div></div><div style='display: inline; text-align: center;'><div style='display: none; color: #999; padding-top: 0px; font-size: 12px;'>3.223 / 5</div><div id='_tp_dkndzgglmzrloauyvvkn_ind_4'style='display: inline; background: rgba(255.0, 13.0, 87.0, 1.0); border-radius: 3px; padding: 0px'onclick=\"if (this.previousSibling.style.display == 'none') {this.previousSibling.style.display = 'block';this.parentNode.style.display = 'inline-block';} else {this.previousSibling.style.display = 'none';this.parentNode.style.display = 'inline';}\"onmouseover=\"document.getElementById('_fb_dkndzgglmzrloauyvvkn_ind_4').style.opacity = 1; document.getElementById('_fs_dkndzgglmzrloauyvvkn_ind_4').style.opacity = 1;\"onmouseout=\"document.getElementById('_fb_dkndzgglmzrloauyvvkn_ind_4').style.opacity = 0; document.getElementById('_fs_dkndzgglmzrloauyvvkn_ind_4').style.opacity = 0;\">entrepreneurial mindset.</div></div><div style='display: inline; text-align: center;'><div style='display: none; color: #999; padding-top: 0px; font-size: 12px;'>-0.0</div><div id='_tp_dkndzgglmzrloauyvvkn_ind_5'style='display: inline; background: rgba(54.70588235294111, 122.49411764705886, 213.40784313725496, 0.0); border-radius: 3px; padding: 0px'onclick=\"if (this.previousSibling.style.display == 'none') {this.previousSibling.style.display = 'block';this.parentNode.style.display = 'inline-block';} else {this.previousSibling.style.display = 'none';this.parentNode.style.display = 'inline';}\"onmouseover=\"document.getElementById('_fb_dkndzgglmzrloauyvvkn_ind_5').style.opacity = 1; document.getElementById('_fs_dkndzgglmzrloauyvvkn_ind_5').style.opacity = 1;\"onmouseout=\"document.getElementById('_fb_dkndzgglmzrloauyvvkn_ind_5').style.opacity = 0; document.getElementById('_fs_dkndzgglmzrloauyvvkn_ind_5').style.opacity = 0;\"></div></div>"
     },
     "metadata": {},
     "output_type": "display_data"
    }
   ],
   "source": [
    "# visualize the first prediction's explanation for the POSITIVE output class\n",
    "shap.plots.text(shap_values[0, :, \"POSITIVE\"])"
   ]
  },
  {
   "cell_type": "code",
   "execution_count": null,
   "outputs": [],
   "source": [],
   "metadata": {
    "collapsed": false,
    "pycharm": {
     "name": "#%%\n"
    }
   }
  }
 ],
 "metadata": {
  "kernelspec": {
   "display_name": "Python 3",
   "language": "python",
   "name": "python3"
  },
  "language_info": {
   "codemirror_mode": {
    "name": "ipython",
    "version": 3
   },
   "file_extension": ".py",
   "mimetype": "text/x-python",
   "name": "python",
   "nbconvert_exporter": "python",
   "pygments_lexer": "ipython3",
   "version": "3.7.4"
  }
 },
 "nbformat": 4,
 "nbformat_minor": 1
}