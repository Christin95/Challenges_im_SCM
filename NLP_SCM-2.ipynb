{
 "cells": [
  {
   "cell_type": "code",
   "execution_count": 0,
   "metadata": {
    "collapsed": true
   },
   "outputs": [],
   "source": []
  },
  {
   "cell_type": "code",
   "execution_count": 1,
   "outputs": [
    {
     "name": "stdout",
     "output_type": "stream",
     "text": [
      "Requirement already satisfied: nltk in /Users/eugenernst/anaconda3/lib/python3.6/site-packages (3.4.1)\r\n",
      "Requirement already satisfied: six in /Users/eugenernst/anaconda3/lib/python3.6/site-packages (from nltk) (1.12.0)\r\n",
      "^C\r\n",
      "\u001B[31mERROR: Operation cancelled by user\u001B[0m\r\n",
      "Requirement already satisfied: numpy in /Users/eugenernst/anaconda3/lib/python3.6/site-packages (1.15.4)\r\n",
      "Requirement already satisfied: pandas in /Users/eugenernst/anaconda3/lib/python3.6/site-packages (1.1.5)\r\n",
      "Requirement already satisfied: python-dateutil>=2.7.3 in /Users/eugenernst/anaconda3/lib/python3.6/site-packages (from pandas) (2.8.0)\r\n",
      "Requirement already satisfied: pytz>=2017.2 in /Users/eugenernst/anaconda3/lib/python3.6/site-packages (from pandas) (2019.1)\r\n",
      "Requirement already satisfied: numpy>=1.15.4 in /Users/eugenernst/anaconda3/lib/python3.6/site-packages (from pandas) (1.15.4)\r\n",
      "Requirement already satisfied: six>=1.5 in /Users/eugenernst/anaconda3/lib/python3.6/site-packages (from python-dateutil>=2.7.3->pandas) (1.12.0)\r\n",
      "Requirement already satisfied: matplotlib in /Users/eugenernst/anaconda3/lib/python3.6/site-packages (3.3.4)\r\n",
      "Requirement already satisfied: numpy>=1.15 in /Users/eugenernst/anaconda3/lib/python3.6/site-packages (from matplotlib) (1.15.4)\r\n",
      "Requirement already satisfied: kiwisolver>=1.0.1 in /Users/eugenernst/anaconda3/lib/python3.6/site-packages (from matplotlib) (1.1.0)\r\n",
      "Requirement already satisfied: python-dateutil>=2.1 in /Users/eugenernst/anaconda3/lib/python3.6/site-packages (from matplotlib) (2.8.0)\r\n",
      "Requirement already satisfied: cycler>=0.10 in /Users/eugenernst/anaconda3/lib/python3.6/site-packages (from matplotlib) (0.10.0)\r\n",
      "Requirement already satisfied: pyparsing!=2.0.4,!=2.1.2,!=2.1.6,>=2.0.3 in /Users/eugenernst/anaconda3/lib/python3.6/site-packages (from matplotlib) (2.4.0)\r\n",
      "Requirement already satisfied: pillow>=6.2.0 in /Users/eugenernst/anaconda3/lib/python3.6/site-packages (from matplotlib) (8.2.0)\r\n",
      "Requirement already satisfied: setuptools in /Users/eugenernst/anaconda3/lib/python3.6/site-packages (from kiwisolver>=1.0.1->matplotlib) (41.0.1)\r\n",
      "Requirement already satisfied: six>=1.5 in /Users/eugenernst/anaconda3/lib/python3.6/site-packages (from python-dateutil>=2.1->matplotlib) (1.12.0)\r\n"
     ]
    }
   ],
   "source": [
    "# if not available, run this cell to install requiresd packages\n",
    "! pip install nltk\n",
    "! pip install numpy\n",
    "! pip install pandas\n",
    "! pip install matplotlib\n",
    "\n"
   ],
   "metadata": {
    "collapsed": false,
    "pycharm": {
     "name": "#%%\n"
    }
   }
  },
  {
   "cell_type": "code",
   "execution_count": 3,
   "outputs": [
    {
     "ename": "KeyboardInterrupt",
     "evalue": "",
     "output_type": "error",
     "traceback": [
      "\u001B[0;31m---------------------------------------------------------------------------\u001B[0m",
      "\u001B[0;31mKeyboardInterrupt\u001B[0m                         Traceback (most recent call last)",
      "\u001B[0;32m<ipython-input-3-d2eca6a1a697>\u001B[0m in \u001B[0;36m<module>\u001B[0;34m\u001B[0m\n\u001B[1;32m      1\u001B[0m \u001B[0;31m# import required packages\u001B[0m\u001B[0;34m\u001B[0m\u001B[0;34m\u001B[0m\u001B[0;34m\u001B[0m\u001B[0m\n\u001B[1;32m      2\u001B[0m \u001B[0;32mimport\u001B[0m \u001B[0mre\u001B[0m\u001B[0;34m\u001B[0m\u001B[0;34m\u001B[0m\u001B[0m\n\u001B[0;32m----> 3\u001B[0;31m \u001B[0;32mimport\u001B[0m \u001B[0mnltk\u001B[0m\u001B[0;34m\u001B[0m\u001B[0;34m\u001B[0m\u001B[0m\n\u001B[0m\u001B[1;32m      4\u001B[0m \u001B[0;32mimport\u001B[0m \u001B[0mstring\u001B[0m\u001B[0;34m\u001B[0m\u001B[0;34m\u001B[0m\u001B[0m\n\u001B[1;32m      5\u001B[0m \u001B[0;34m\u001B[0m\u001B[0m\n",
      "\u001B[0;32m/Applications/anaconda3/envs/ImportanceSampling/lib/python3.8/site-packages/nltk/__init__.py\u001B[0m in \u001B[0;36m<module>\u001B[0;34m\u001B[0m\n\u001B[1;32m    135\u001B[0m \u001B[0;32mfrom\u001B[0m \u001B[0mnltk\u001B[0m\u001B[0;34m.\u001B[0m\u001B[0mtranslate\u001B[0m \u001B[0;32mimport\u001B[0m \u001B[0;34m*\u001B[0m\u001B[0;34m\u001B[0m\u001B[0;34m\u001B[0m\u001B[0m\n\u001B[1;32m    136\u001B[0m \u001B[0;32mfrom\u001B[0m \u001B[0mnltk\u001B[0m\u001B[0;34m.\u001B[0m\u001B[0msem\u001B[0m \u001B[0;32mimport\u001B[0m \u001B[0;34m*\u001B[0m\u001B[0;34m\u001B[0m\u001B[0;34m\u001B[0m\u001B[0m\n\u001B[0;32m--> 137\u001B[0;31m \u001B[0;32mfrom\u001B[0m \u001B[0mnltk\u001B[0m\u001B[0;34m.\u001B[0m\u001B[0mstem\u001B[0m \u001B[0;32mimport\u001B[0m \u001B[0;34m*\u001B[0m\u001B[0;34m\u001B[0m\u001B[0;34m\u001B[0m\u001B[0m\n\u001B[0m\u001B[1;32m    138\u001B[0m \u001B[0;34m\u001B[0m\u001B[0m\n\u001B[1;32m    139\u001B[0m \u001B[0;31m# Packages which can be lazily imported\u001B[0m\u001B[0;34m\u001B[0m\u001B[0;34m\u001B[0m\u001B[0;34m\u001B[0m\u001B[0m\n",
      "\u001B[0;32m/Applications/anaconda3/envs/ImportanceSampling/lib/python3.8/site-packages/nltk/stem/__init__.py\u001B[0m in \u001B[0;36m<module>\u001B[0;34m\u001B[0m\n\u001B[1;32m     27\u001B[0m \u001B[0;32mfrom\u001B[0m \u001B[0mnltk\u001B[0m\u001B[0;34m.\u001B[0m\u001B[0mstem\u001B[0m\u001B[0;34m.\u001B[0m\u001B[0misri\u001B[0m \u001B[0;32mimport\u001B[0m \u001B[0mISRIStemmer\u001B[0m\u001B[0;34m\u001B[0m\u001B[0;34m\u001B[0m\u001B[0m\n\u001B[1;32m     28\u001B[0m \u001B[0;32mfrom\u001B[0m \u001B[0mnltk\u001B[0m\u001B[0;34m.\u001B[0m\u001B[0mstem\u001B[0m\u001B[0;34m.\u001B[0m\u001B[0mporter\u001B[0m \u001B[0;32mimport\u001B[0m \u001B[0mPorterStemmer\u001B[0m\u001B[0;34m\u001B[0m\u001B[0;34m\u001B[0m\u001B[0m\n\u001B[0;32m---> 29\u001B[0;31m \u001B[0;32mfrom\u001B[0m \u001B[0mnltk\u001B[0m\u001B[0;34m.\u001B[0m\u001B[0mstem\u001B[0m\u001B[0;34m.\u001B[0m\u001B[0msnowball\u001B[0m \u001B[0;32mimport\u001B[0m \u001B[0mSnowballStemmer\u001B[0m\u001B[0;34m\u001B[0m\u001B[0;34m\u001B[0m\u001B[0m\n\u001B[0m\u001B[1;32m     30\u001B[0m \u001B[0;32mfrom\u001B[0m \u001B[0mnltk\u001B[0m\u001B[0;34m.\u001B[0m\u001B[0mstem\u001B[0m\u001B[0;34m.\u001B[0m\u001B[0mwordnet\u001B[0m \u001B[0;32mimport\u001B[0m \u001B[0mWordNetLemmatizer\u001B[0m\u001B[0;34m\u001B[0m\u001B[0;34m\u001B[0m\u001B[0m\n\u001B[1;32m     31\u001B[0m \u001B[0;32mfrom\u001B[0m \u001B[0mnltk\u001B[0m\u001B[0;34m.\u001B[0m\u001B[0mstem\u001B[0m\u001B[0;34m.\u001B[0m\u001B[0mrslp\u001B[0m \u001B[0;32mimport\u001B[0m \u001B[0mRSLPStemmer\u001B[0m\u001B[0;34m\u001B[0m\u001B[0;34m\u001B[0m\u001B[0m\n",
      "\u001B[0;32m/Applications/anaconda3/envs/ImportanceSampling/lib/python3.8/site-packages/nltk/stem/snowball.py\u001B[0m in \u001B[0;36m<module>\u001B[0;34m\u001B[0m\n\u001B[1;32m     30\u001B[0m \u001B[0;34m\u001B[0m\u001B[0m\n\u001B[1;32m     31\u001B[0m \u001B[0;32mfrom\u001B[0m \u001B[0mnltk\u001B[0m \u001B[0;32mimport\u001B[0m \u001B[0mcompat\u001B[0m\u001B[0;34m\u001B[0m\u001B[0;34m\u001B[0m\u001B[0m\n\u001B[0;32m---> 32\u001B[0;31m \u001B[0;32mfrom\u001B[0m \u001B[0mnltk\u001B[0m\u001B[0;34m.\u001B[0m\u001B[0mcorpus\u001B[0m \u001B[0;32mimport\u001B[0m \u001B[0mstopwords\u001B[0m\u001B[0;34m\u001B[0m\u001B[0;34m\u001B[0m\u001B[0m\n\u001B[0m\u001B[1;32m     33\u001B[0m \u001B[0;32mfrom\u001B[0m \u001B[0mnltk\u001B[0m\u001B[0;34m.\u001B[0m\u001B[0mstem\u001B[0m \u001B[0;32mimport\u001B[0m \u001B[0mporter\u001B[0m\u001B[0;34m\u001B[0m\u001B[0;34m\u001B[0m\u001B[0m\n\u001B[1;32m     34\u001B[0m \u001B[0;32mfrom\u001B[0m \u001B[0mnltk\u001B[0m\u001B[0;34m.\u001B[0m\u001B[0mstem\u001B[0m\u001B[0;34m.\u001B[0m\u001B[0mutil\u001B[0m \u001B[0;32mimport\u001B[0m \u001B[0msuffix_replace\u001B[0m\u001B[0;34m,\u001B[0m \u001B[0mprefix_replace\u001B[0m\u001B[0;34m\u001B[0m\u001B[0;34m\u001B[0m\u001B[0m\n",
      "\u001B[0;32m/Applications/anaconda3/envs/ImportanceSampling/lib/python3.8/site-packages/nltk/corpus/__init__.py\u001B[0m in \u001B[0;36m<module>\u001B[0;34m\u001B[0m\n\u001B[1;32m     64\u001B[0m \u001B[0;32mfrom\u001B[0m \u001B[0mnltk\u001B[0m\u001B[0;34m.\u001B[0m\u001B[0mtokenize\u001B[0m \u001B[0;32mimport\u001B[0m \u001B[0mRegexpTokenizer\u001B[0m\u001B[0;34m\u001B[0m\u001B[0;34m\u001B[0m\u001B[0m\n\u001B[1;32m     65\u001B[0m \u001B[0;32mfrom\u001B[0m \u001B[0mnltk\u001B[0m\u001B[0;34m.\u001B[0m\u001B[0mcorpus\u001B[0m\u001B[0;34m.\u001B[0m\u001B[0mutil\u001B[0m \u001B[0;32mimport\u001B[0m \u001B[0mLazyCorpusLoader\u001B[0m\u001B[0;34m\u001B[0m\u001B[0;34m\u001B[0m\u001B[0m\n\u001B[0;32m---> 66\u001B[0;31m \u001B[0;32mfrom\u001B[0m \u001B[0mnltk\u001B[0m\u001B[0;34m.\u001B[0m\u001B[0mcorpus\u001B[0m\u001B[0;34m.\u001B[0m\u001B[0mreader\u001B[0m \u001B[0;32mimport\u001B[0m \u001B[0;34m*\u001B[0m\u001B[0;34m\u001B[0m\u001B[0;34m\u001B[0m\u001B[0m\n\u001B[0m\u001B[1;32m     67\u001B[0m \u001B[0;34m\u001B[0m\u001B[0m\n\u001B[1;32m     68\u001B[0m abc = LazyCorpusLoader(\n",
      "\u001B[0;32m/Applications/anaconda3/envs/ImportanceSampling/lib/python3.8/site-packages/nltk/corpus/reader/__init__.py\u001B[0m in \u001B[0;36m<module>\u001B[0;34m\u001B[0m\n\u001B[1;32m     78\u001B[0m \u001B[0;32mfrom\u001B[0m \u001B[0mnltk\u001B[0m\u001B[0;34m.\u001B[0m\u001B[0mcorpus\u001B[0m\u001B[0;34m.\u001B[0m\u001B[0mreader\u001B[0m\u001B[0;34m.\u001B[0m\u001B[0mbnc\u001B[0m \u001B[0;32mimport\u001B[0m \u001B[0;34m*\u001B[0m\u001B[0;34m\u001B[0m\u001B[0;34m\u001B[0m\u001B[0m\n\u001B[1;32m     79\u001B[0m \u001B[0;32mfrom\u001B[0m \u001B[0mnltk\u001B[0m\u001B[0;34m.\u001B[0m\u001B[0mcorpus\u001B[0m\u001B[0;34m.\u001B[0m\u001B[0mreader\u001B[0m\u001B[0;34m.\u001B[0m\u001B[0mnps_chat\u001B[0m \u001B[0;32mimport\u001B[0m \u001B[0;34m*\u001B[0m\u001B[0;34m\u001B[0m\u001B[0;34m\u001B[0m\u001B[0m\n\u001B[0;32m---> 80\u001B[0;31m \u001B[0;32mfrom\u001B[0m \u001B[0mnltk\u001B[0m\u001B[0;34m.\u001B[0m\u001B[0mcorpus\u001B[0m\u001B[0;34m.\u001B[0m\u001B[0mreader\u001B[0m\u001B[0;34m.\u001B[0m\u001B[0mwordnet\u001B[0m \u001B[0;32mimport\u001B[0m \u001B[0;34m*\u001B[0m\u001B[0;34m\u001B[0m\u001B[0;34m\u001B[0m\u001B[0m\n\u001B[0m\u001B[1;32m     81\u001B[0m \u001B[0;32mfrom\u001B[0m \u001B[0mnltk\u001B[0m\u001B[0;34m.\u001B[0m\u001B[0mcorpus\u001B[0m\u001B[0;34m.\u001B[0m\u001B[0mreader\u001B[0m\u001B[0;34m.\u001B[0m\u001B[0mswitchboard\u001B[0m \u001B[0;32mimport\u001B[0m \u001B[0;34m*\u001B[0m\u001B[0;34m\u001B[0m\u001B[0;34m\u001B[0m\u001B[0m\n\u001B[1;32m     82\u001B[0m \u001B[0;32mfrom\u001B[0m \u001B[0mnltk\u001B[0m\u001B[0;34m.\u001B[0m\u001B[0mcorpus\u001B[0m\u001B[0;34m.\u001B[0m\u001B[0mreader\u001B[0m\u001B[0;34m.\u001B[0m\u001B[0mdependency\u001B[0m \u001B[0;32mimport\u001B[0m \u001B[0;34m*\u001B[0m\u001B[0;34m\u001B[0m\u001B[0;34m\u001B[0m\u001B[0m\n",
      "\u001B[0;32m/Applications/anaconda3/envs/ImportanceSampling/lib/python3.8/importlib/_bootstrap.py\u001B[0m in \u001B[0;36m_find_and_load\u001B[0;34m(name, import_)\u001B[0m\n",
      "\u001B[0;32m/Applications/anaconda3/envs/ImportanceSampling/lib/python3.8/importlib/_bootstrap.py\u001B[0m in \u001B[0;36m_find_and_load_unlocked\u001B[0;34m(name, import_)\u001B[0m\n",
      "\u001B[0;32m/Applications/anaconda3/envs/ImportanceSampling/lib/python3.8/importlib/_bootstrap.py\u001B[0m in \u001B[0;36m_load_unlocked\u001B[0;34m(spec)\u001B[0m\n",
      "\u001B[0;32m/Applications/anaconda3/envs/ImportanceSampling/lib/python3.8/importlib/_bootstrap_external.py\u001B[0m in \u001B[0;36mexec_module\u001B[0;34m(self, module)\u001B[0m\n",
      "\u001B[0;32m/Applications/anaconda3/envs/ImportanceSampling/lib/python3.8/importlib/_bootstrap_external.py\u001B[0m in \u001B[0;36mget_code\u001B[0;34m(self, fullname)\u001B[0m\n",
      "\u001B[0;32m/Applications/anaconda3/envs/ImportanceSampling/lib/python3.8/importlib/_bootstrap_external.py\u001B[0m in \u001B[0;36m_compile_bytecode\u001B[0;34m(data, name, bytecode_path, source_path)\u001B[0m\n",
      "\u001B[0;31mKeyboardInterrupt\u001B[0m: "
     ]
    }
   ],
   "source": [
    "# import required packages\n",
    "import re\n",
    "import nltk\n",
    "import string\n",
    "\n",
    "import numpy as np\n",
    "import pandas as pd\n",
    "\n",
    "import matplotlib.pyplot as plt\n",
    "\n",
    "from nltk.sentiment.vader import SentimentIntensityAnalyzer\n"
   ],
   "metadata": {
    "collapsed": false,
    "pycharm": {
     "name": "#%%\n"
    }
   }
  },
  {
   "cell_type": "code",
   "execution_count": null,
   "outputs": [],
   "source": [
    "# inplace the location of the file on your machine\n",
    "file_path = \"/Users/eugenernst/Desktop/C-SCM-DATA-Candidates_Evaluation_Anonymized_SS21.xlsx\""
   ],
   "metadata": {
    "collapsed": false,
    "pycharm": {
     "name": "#%%\n"
    }
   }
  },
  {
   "cell_type": "code",
   "execution_count": null,
   "outputs": [],
   "source": [
    "print(file_path)"
   ],
   "metadata": {
    "collapsed": false,
    "pycharm": {
     "name": "#%%\n"
    }
   }
  },
  {
   "cell_type": "code",
   "execution_count": null,
   "outputs": [],
   "source": [
    "# download of specific tools for nltk (you have to do it once)\n",
    "nltk.download('vader_lexicon')\n",
    "nltk.download(\"stopwords\")\n",
    "\n",
    "stopwords = nltk.corpus.stopwords.words(\"english\")"
   ],
   "metadata": {
    "collapsed": false,
    "pycharm": {
     "name": "#%%\n"
    }
   }
  },
  {
   "cell_type": "code",
   "execution_count": null,
   "outputs": [],
   "source": [
    "def evaluator_count(data=None):\n",
    "    if data is None:\n",
    "        data = pd.read_excel(file_path, engine='openpyxl')\n",
    "    eval_count = data.groupby('Evaluated by Code').count()[['Person ID', 'Agreed By Code']]\n",
    "\n",
    "    eval_count.columns = ['evaluated', 'agreed']\n",
    "    return eval_count\n",
    "\n",
    "#\n",
    "eval_count = evaluator_count()\n",
    "\n",
    "# gives the evaluator (index), number of evaluations and count of evaluations which have been agreed by other persons\n",
    "eval_count.head(10)\n"
   ],
   "metadata": {
    "collapsed": false,
    "pycharm": {
     "name": "#%%\n"
    }
   }
  },
  {
   "cell_type": "code",
   "execution_count": null,
   "outputs": [],
   "source": [
    "# checks whether number is included\n",
    "def hasNumbers(inputString):\n",
    "    return any(char.isdigit() for char in inputString)\n",
    "\n",
    "# filters numbers (ids) from the statements\n",
    "def filter_numbers(word_list):\n",
    "    return [word for word in word_list if hasNumbers(word) is False]\n",
    "\n",
    "def filter_stop_words(word_list):\n",
    "    return [word for word in word_list if word.lower() not in stopwords]\n",
    "\n",
    "\n",
    "def prepare_word_list():\n",
    "    data = pd.read_excel(file_path, engine='openpyxl')\n",
    "    statements = data['Evaluation Statement'].tolist()\n",
    "\n",
    "    word_list = []\n",
    "    for statement in statements:\n",
    "        #statement = statements[0]\n",
    "        if type(statement) == str:\n",
    "            # remove punctuation marks\n",
    "            statement = statement.translate(str.maketrans({a:None for a in string.punctuation}))\n",
    "            # split statement into single words\n",
    "            statement_words = nltk.word_tokenize(statement)\n",
    "            # remove numeric values\n",
    "            statement_words = filter_numbers(statement_words)\n",
    "            # remove stopwords\n",
    "            statement_words = filter_stop_words(statement_words)\n",
    "\n",
    "            word_list += statement_words\n",
    "\n",
    "    return word_list\n",
    "\n",
    "\n",
    "def worde_freq_analysis(num_top=None):\n",
    "    word_list = prepare_word_list()\n",
    "\n",
    "    if num_top is None:\n",
    "        num_top = len(np.unique(word_list))\n",
    "\n",
    "    fd = nltk.FreqDist(word_list)\n",
    "\n",
    "    most_common_words = pd.DataFrame(fd.most_common(num_top), columns=['word', 'count'])\n",
    "\n",
    "    return most_common_words\n",
    "\n",
    "\n",
    "word_ranking = worde_freq_analysis()\n",
    "\n",
    "# top 20 words and the count of words\n",
    "word_ranking.head(20)"
   ],
   "metadata": {
    "collapsed": false,
    "pycharm": {
     "name": "#%%\n"
    }
   }
  },
  {
   "cell_type": "code",
   "execution_count": null,
   "outputs": [],
   "source": [
    "def statement_sentiment(statement):\n",
    "    vader = SentimentIntensityAnalyzer()\n",
    "    polarity_dict = vader.polarity_scores(statement)\n",
    "    return polarity_dict\n",
    "\n",
    "def sentiment_data():\n",
    "    data = pd.read_excel(file_path, engine='openpyxl')\n",
    "    data.dropna(axis=0, inplace=True)\n",
    "    data['Person ID'] = data['Person ID'].astype(int)\n",
    "    data.set_index('Person ID', inplace=True)\n",
    "\n",
    "    sentiments = ['neg', 'neu', 'pos', 'compound']\n",
    "\n",
    "    for sentiment in sentiments:\n",
    "        data[sentiment] = 0\n",
    "\n",
    "    sentiment_index_dict = {}\n",
    "    for index in data.index:\n",
    "        statement = data.loc[index]['Evaluation Statement']\n",
    "        try:\n",
    "            sentiment_index_dict[index] = statement_sentiment(statement)\n",
    "\n",
    "        except:\n",
    "            print(statement)\n",
    "\n",
    "        for sentiment in sentiments:\n",
    "            data.loc[index, sentiment] = np.copy(sentiment_index_dict[index][sentiment])\n",
    "\n",
    "    return data\n",
    "\n",
    "\n",
    "data = sentiment_data()\n",
    "\n",
    "sentiment_columns = ['neg', 'neu', 'pos', 'compound']\n",
    "\n",
    "senti = data[sentiment_columns].head(10)\n"
   ],
   "metadata": {
    "collapsed": false,
    "pycharm": {
     "name": "#%%\n"
    }
   }
  }
 ],
 "metadata": {
  "kernelspec": {
   "name": "python3",
   "language": "python",
   "display_name": "Python 3"
  },
  "language_info": {
   "codemirror_mode": {
    "name": "ipython",
    "version": 2
   },
   "file_extension": ".py",
   "mimetype": "text/x-python",
   "name": "python",
   "nbconvert_exporter": "python",
   "pygments_lexer": "ipython2",
   "version": "2.7.6"
  }
 },
 "nbformat": 4,
 "nbformat_minor": 0
}